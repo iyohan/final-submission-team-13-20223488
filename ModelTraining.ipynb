{
  "cells": [
    {
      "cell_type": "markdown",
      "metadata": {
        "id": "f92-4Hjy7kA8"
      },
      "source": [
        "**Modified by: Yohan Lee (Last update: Jun 14, 2023)**\n",
        "\n",
        "<a href=\"https://www.arduino.cc/\"><img src=\"https://raw.githubusercontent.com/sandeepmistry/aimldevfest-workshop-2019/master/images/Arduino_logo_R_highquality.png\" width=200/></a>\n",
        "# Tiny ML on Arduino\n",
        "## Gesture recognition tutorial\n",
        " * Sandeep Mistry - Arduino\n",
        " * Don Coleman - Chariot Solutions\n",
        "\n",
        "\n",
        "https://github.com/arduino/ArduinoTensorFlowLiteTutorials/"
      ]
    },
    {
      "cell_type": "markdown",
      "metadata": {
        "id": "uvDA8AK7QOq-"
      },
      "source": [
        "# Setup Python Environment\n",
        "\n",
        "The next cell sets up the dependencies in required for the notebook, run it."
      ]
    },
    {
      "cell_type": "code",
      "execution_count": null,
      "metadata": {
        "id": "Y2gs-PL4xDkZ",
        "vscode": {
          "languageId": "python"
        },
        "colab": {
          "base_uri": "https://localhost:8080/"
        },
        "outputId": "a90b6ce0-72a6-4c6e-a368-1c065930bb6c"
      },
      "outputs": [
        {
          "output_type": "stream",
          "name": "stdout",
          "text": [
            "Looking in indexes: https://pypi.org/simple, https://us-python.pkg.dev/colab-wheels/public/simple/\n",
            "Requirement already satisfied: pandas in /usr/local/lib/python3.10/dist-packages (1.5.3)\n",
            "Requirement already satisfied: numpy in /usr/local/lib/python3.10/dist-packages (1.22.4)\n",
            "Requirement already satisfied: matplotlib in /usr/local/lib/python3.10/dist-packages (3.7.1)\n",
            "Requirement already satisfied: python-dateutil>=2.8.1 in /usr/local/lib/python3.10/dist-packages (from pandas) (2.8.2)\n",
            "Requirement already satisfied: pytz>=2020.1 in /usr/local/lib/python3.10/dist-packages (from pandas) (2022.7.1)\n",
            "Requirement already satisfied: contourpy>=1.0.1 in /usr/local/lib/python3.10/dist-packages (from matplotlib) (1.0.7)\n",
            "Requirement already satisfied: cycler>=0.10 in /usr/local/lib/python3.10/dist-packages (from matplotlib) (0.11.0)\n",
            "Requirement already satisfied: fonttools>=4.22.0 in /usr/local/lib/python3.10/dist-packages (from matplotlib) (4.39.3)\n",
            "Requirement already satisfied: kiwisolver>=1.0.1 in /usr/local/lib/python3.10/dist-packages (from matplotlib) (1.4.4)\n",
            "Requirement already satisfied: packaging>=20.0 in /usr/local/lib/python3.10/dist-packages (from matplotlib) (23.1)\n",
            "Requirement already satisfied: pillow>=6.2.0 in /usr/local/lib/python3.10/dist-packages (from matplotlib) (8.4.0)\n",
            "Requirement already satisfied: pyparsing>=2.3.1 in /usr/local/lib/python3.10/dist-packages (from matplotlib) (3.0.9)\n",
            "Requirement already satisfied: six>=1.5 in /usr/local/lib/python3.10/dist-packages (from python-dateutil>=2.8.1->pandas) (1.16.0)\n",
            "Looking in indexes: https://pypi.org/simple, https://us-python.pkg.dev/colab-wheels/public/simple/\n",
            "Requirement already satisfied: tensorflow in /usr/local/lib/python3.10/dist-packages (2.12.0)\n",
            "Requirement already satisfied: absl-py>=1.0.0 in /usr/local/lib/python3.10/dist-packages (from tensorflow) (1.4.0)\n",
            "Requirement already satisfied: astunparse>=1.6.0 in /usr/local/lib/python3.10/dist-packages (from tensorflow) (1.6.3)\n",
            "Requirement already satisfied: flatbuffers>=2.0 in /usr/local/lib/python3.10/dist-packages (from tensorflow) (23.3.3)\n",
            "Requirement already satisfied: gast<=0.4.0,>=0.2.1 in /usr/local/lib/python3.10/dist-packages (from tensorflow) (0.4.0)\n",
            "Requirement already satisfied: google-pasta>=0.1.1 in /usr/local/lib/python3.10/dist-packages (from tensorflow) (0.2.0)\n",
            "Requirement already satisfied: grpcio<2.0,>=1.24.3 in /usr/local/lib/python3.10/dist-packages (from tensorflow) (1.54.0)\n",
            "Requirement already satisfied: h5py>=2.9.0 in /usr/local/lib/python3.10/dist-packages (from tensorflow) (3.8.0)\n",
            "Requirement already satisfied: jax>=0.3.15 in /usr/local/lib/python3.10/dist-packages (from tensorflow) (0.4.10)\n",
            "Requirement already satisfied: keras<2.13,>=2.12.0 in /usr/local/lib/python3.10/dist-packages (from tensorflow) (2.12.0)\n",
            "Requirement already satisfied: libclang>=13.0.0 in /usr/local/lib/python3.10/dist-packages (from tensorflow) (16.0.0)\n",
            "Requirement already satisfied: numpy<1.24,>=1.22 in /usr/local/lib/python3.10/dist-packages (from tensorflow) (1.22.4)\n",
            "Requirement already satisfied: opt-einsum>=2.3.2 in /usr/local/lib/python3.10/dist-packages (from tensorflow) (3.3.0)\n",
            "Requirement already satisfied: packaging in /usr/local/lib/python3.10/dist-packages (from tensorflow) (23.1)\n",
            "Requirement already satisfied: protobuf!=4.21.0,!=4.21.1,!=4.21.2,!=4.21.3,!=4.21.4,!=4.21.5,<5.0.0dev,>=3.20.3 in /usr/local/lib/python3.10/dist-packages (from tensorflow) (3.20.3)\n",
            "Requirement already satisfied: setuptools in /usr/local/lib/python3.10/dist-packages (from tensorflow) (67.7.2)\n",
            "Requirement already satisfied: six>=1.12.0 in /usr/local/lib/python3.10/dist-packages (from tensorflow) (1.16.0)\n",
            "Requirement already satisfied: tensorboard<2.13,>=2.12 in /usr/local/lib/python3.10/dist-packages (from tensorflow) (2.12.2)\n",
            "Requirement already satisfied: tensorflow-estimator<2.13,>=2.12.0 in /usr/local/lib/python3.10/dist-packages (from tensorflow) (2.12.0)\n",
            "Requirement already satisfied: termcolor>=1.1.0 in /usr/local/lib/python3.10/dist-packages (from tensorflow) (2.3.0)\n",
            "Requirement already satisfied: typing-extensions>=3.6.6 in /usr/local/lib/python3.10/dist-packages (from tensorflow) (4.5.0)\n",
            "Requirement already satisfied: wrapt<1.15,>=1.11.0 in /usr/local/lib/python3.10/dist-packages (from tensorflow) (1.14.1)\n",
            "Requirement already satisfied: tensorflow-io-gcs-filesystem>=0.23.1 in /usr/local/lib/python3.10/dist-packages (from tensorflow) (0.32.0)\n",
            "Requirement already satisfied: wheel<1.0,>=0.23.0 in /usr/local/lib/python3.10/dist-packages (from astunparse>=1.6.0->tensorflow) (0.40.0)\n",
            "Requirement already satisfied: ml-dtypes>=0.1.0 in /usr/local/lib/python3.10/dist-packages (from jax>=0.3.15->tensorflow) (0.1.0)\n",
            "Requirement already satisfied: scipy>=1.7 in /usr/local/lib/python3.10/dist-packages (from jax>=0.3.15->tensorflow) (1.10.1)\n",
            "Requirement already satisfied: google-auth<3,>=1.6.3 in /usr/local/lib/python3.10/dist-packages (from tensorboard<2.13,>=2.12->tensorflow) (2.17.3)\n",
            "Requirement already satisfied: google-auth-oauthlib<1.1,>=0.5 in /usr/local/lib/python3.10/dist-packages (from tensorboard<2.13,>=2.12->tensorflow) (1.0.0)\n",
            "Requirement already satisfied: markdown>=2.6.8 in /usr/local/lib/python3.10/dist-packages (from tensorboard<2.13,>=2.12->tensorflow) (3.4.3)\n",
            "Requirement already satisfied: requests<3,>=2.21.0 in /usr/local/lib/python3.10/dist-packages (from tensorboard<2.13,>=2.12->tensorflow) (2.27.1)\n",
            "Requirement already satisfied: tensorboard-data-server<0.8.0,>=0.7.0 in /usr/local/lib/python3.10/dist-packages (from tensorboard<2.13,>=2.12->tensorflow) (0.7.0)\n",
            "Requirement already satisfied: tensorboard-plugin-wit>=1.6.0 in /usr/local/lib/python3.10/dist-packages (from tensorboard<2.13,>=2.12->tensorflow) (1.8.1)\n",
            "Requirement already satisfied: werkzeug>=1.0.1 in /usr/local/lib/python3.10/dist-packages (from tensorboard<2.13,>=2.12->tensorflow) (2.3.0)\n",
            "Requirement already satisfied: cachetools<6.0,>=2.0.0 in /usr/local/lib/python3.10/dist-packages (from google-auth<3,>=1.6.3->tensorboard<2.13,>=2.12->tensorflow) (5.3.0)\n",
            "Requirement already satisfied: pyasn1-modules>=0.2.1 in /usr/local/lib/python3.10/dist-packages (from google-auth<3,>=1.6.3->tensorboard<2.13,>=2.12->tensorflow) (0.3.0)\n",
            "Requirement already satisfied: rsa<5,>=3.1.4 in /usr/local/lib/python3.10/dist-packages (from google-auth<3,>=1.6.3->tensorboard<2.13,>=2.12->tensorflow) (4.9)\n",
            "Requirement already satisfied: requests-oauthlib>=0.7.0 in /usr/local/lib/python3.10/dist-packages (from google-auth-oauthlib<1.1,>=0.5->tensorboard<2.13,>=2.12->tensorflow) (1.3.1)\n",
            "Requirement already satisfied: urllib3<1.27,>=1.21.1 in /usr/local/lib/python3.10/dist-packages (from requests<3,>=2.21.0->tensorboard<2.13,>=2.12->tensorflow) (1.26.15)\n",
            "Requirement already satisfied: certifi>=2017.4.17 in /usr/local/lib/python3.10/dist-packages (from requests<3,>=2.21.0->tensorboard<2.13,>=2.12->tensorflow) (2022.12.7)\n",
            "Requirement already satisfied: charset-normalizer~=2.0.0 in /usr/local/lib/python3.10/dist-packages (from requests<3,>=2.21.0->tensorboard<2.13,>=2.12->tensorflow) (2.0.12)\n",
            "Requirement already satisfied: idna<4,>=2.5 in /usr/local/lib/python3.10/dist-packages (from requests<3,>=2.21.0->tensorboard<2.13,>=2.12->tensorflow) (3.4)\n",
            "Requirement already satisfied: MarkupSafe>=2.1.1 in /usr/local/lib/python3.10/dist-packages (from werkzeug>=1.0.1->tensorboard<2.13,>=2.12->tensorflow) (2.1.2)\n",
            "Requirement already satisfied: pyasn1<0.6.0,>=0.4.6 in /usr/local/lib/python3.10/dist-packages (from pyasn1-modules>=0.2.1->google-auth<3,>=1.6.3->tensorboard<2.13,>=2.12->tensorflow) (0.5.0)\n",
            "Requirement already satisfied: oauthlib>=3.0.0 in /usr/local/lib/python3.10/dist-packages (from requests-oauthlib>=0.7.0->google-auth-oauthlib<1.1,>=0.5->tensorboard<2.13,>=2.12->tensorflow) (3.2.2)\n"
          ]
        }
      ],
      "source": [
        "# Setup environment\n",
        "!apt-get -qq install xxd\n",
        "!pip install pandas numpy matplotlib\n",
        "!pip install tensorflow"
      ]
    },
    {
      "cell_type": "markdown",
      "source": [
        "# Prepare data"
      ],
      "metadata": {
        "id": "2HLeI11dJktl"
      }
    },
    {
      "cell_type": "markdown",
      "metadata": {
        "id": "Gxk414PU3oy3"
      },
      "source": [
        "## Parse and prepare the data\n",
        "\n",
        "The next cell parses the csv files and transforms them to a format that will be used to train the fully connected neural network.\n",
        "\n",
        "Update the `GESTURES` list with the gesture data you've collected in `.csv` format.\n"
      ]
    },
    {
      "cell_type": "code",
      "execution_count": null,
      "metadata": {
        "id": "AGChd1FAk5_j",
        "vscode": {
          "languageId": "python"
        },
        "colab": {
          "base_uri": "https://localhost:8080/"
        },
        "outputId": "741a44a9-fa85-4ef4-d7d0-4265b68c1ec8"
      },
      "outputs": [
        {
          "output_type": "stream",
          "name": "stdout",
          "text": [
            "TensorFlow version = 2.12.0\n",
            "\n",
            "Processing index 0 for gesture 'fist_left'.\n",
            "\tThere are 77 recordings of the fist_left gesture.\n",
            "Processing index 1 for gesture 'fist_right'.\n",
            "\tThere are 81 recordings of the fist_right gesture.\n",
            "Processing index 2 for gesture 'fist_up'.\n",
            "\tThere are 82 recordings of the fist_up gesture.\n",
            "Processing index 3 for gesture 'fist_down'.\n",
            "\tThere are 77 recordings of the fist_down gesture.\n",
            "Processing index 4 for gesture 'fist_center'.\n",
            "\tThere are 84 recordings of the fist_center gesture.\n",
            "Processing index 5 for gesture 'palm_left'.\n",
            "\tThere are 82 recordings of the palm_left gesture.\n",
            "Processing index 6 for gesture 'palm_right'.\n",
            "\tThere are 81 recordings of the palm_right gesture.\n",
            "Processing index 7 for gesture 'palm_up'.\n",
            "\tThere are 84 recordings of the palm_up gesture.\n",
            "Processing index 8 for gesture 'palm_down'.\n",
            "\tThere are 78 recordings of the palm_down gesture.\n",
            "Processing index 9 for gesture 'palm_center'.\n",
            "\tThere are 83 recordings of the palm_center gesture.\n",
            "Data set parsing and preparation complete.\n",
            "(809, 1200) (809, 10)\n"
          ]
        }
      ],
      "source": [
        "import matplotlib.pyplot as plt\n",
        "import numpy as np\n",
        "import pandas as pd\n",
        "import tensorflow as tf\n",
        "\n",
        "filepath = '/content/'\n",
        "\n",
        "print(f\"TensorFlow version = {tf.__version__}\\n\")\n",
        "\n",
        "# Set a fixed random seed value, for reproducibility, this will allow us to get\n",
        "# the same random numbers each time the notebook is run\n",
        "SEED = 47\n",
        "np.random.seed(SEED)\n",
        "tf.random.set_seed(SEED)\n",
        "\n",
        "# the list of gestures that data is available for\n",
        "GESTURES = [\n",
        "    \"fist_left\",\n",
        "    \"fist_right\",\n",
        "    \"fist_up\",\n",
        "    \"fist_down\",\n",
        "    \"fist_center\",\n",
        "    \"palm_left\",\n",
        "    \"palm_right\",\n",
        "    \"palm_up\",\n",
        "    \"palm_down\",\n",
        "    \"palm_center\"\n",
        "]\n",
        "\n",
        "SAMPLES_PER_GESTURE = 150\n",
        "NUM_FEATURES = 8\n",
        "\n",
        "NUM_GESTURES = len(GESTURES)\n",
        "\n",
        "# create a one-hot encoded matrix that is used in the output\n",
        "ONE_HOT_ENCODED_GESTURES = np.eye(NUM_GESTURES)\n",
        "\n",
        "inputs = []\n",
        "outputs = []\n",
        "\n",
        "# read each csv file and push an input and output\n",
        "for gesture_index in range(NUM_GESTURES):\n",
        "    gesture = GESTURES[gesture_index]\n",
        "    print(f\"Processing index {gesture_index} for gesture '{gesture}'.\")\n",
        "\n",
        "    output = ONE_HOT_ENCODED_GESTURES[gesture_index]\n",
        "\n",
        "    df = pd.read_csv(filepath + gesture + \".csv\")\n",
        "    df = df.drop(columns=['timestamp'])\n",
        "    df = df.dropna()\n",
        "    df = df.reset_index(drop=True)\n",
        "\n",
        "    # calculate the number of gesture recordings in the file\n",
        "    num_recordings = int(df.shape[0] / SAMPLES_PER_GESTURE)\n",
        "\n",
        "    print(f\"\\tThere are {num_recordings} recordings of the {gesture} gesture.\")\n",
        "\n",
        "    for i in range(num_recordings):\n",
        "        tensor = []\n",
        "        for j in range(SAMPLES_PER_GESTURE):\n",
        "            index = i * SAMPLES_PER_GESTURE + j\n",
        "            # normalize the input data, between 0 to 1:\n",
        "            # - acceleration is between: -4 to +4\n",
        "            # - gyroscope is between: -2000 to +2000\n",
        "            tensor += [\n",
        "            df['eD'][index] / 500000,\n",
        "            df['eU'][index] / 500000,\n",
        "            (df['aX'][index] + 4) / 8,\n",
        "            (df['aY'][index] + 4) / 8,\n",
        "            (df['aZ'][index] + 4) / 8,\n",
        "            (df['gX'][index] + 2000) / 4000,\n",
        "            (df['gY'][index] + 2000) / 4000,\n",
        "            (df['gZ'][index] + 2000) / 4000\n",
        "            ]\n",
        "        inputs.append(tensor)\n",
        "        outputs.append(output)\n",
        "\n",
        "# convert the list to numpy array\n",
        "inputs = np.array(inputs)\n",
        "outputs = np.array(outputs)\n",
        "\n",
        "print(\"Data set parsing and preparation complete.\")\n",
        "print(inputs.shape, outputs.shape)"
      ]
    },
    {
      "cell_type": "markdown",
      "metadata": {
        "id": "d5_61831d5AM"
      },
      "source": [
        "## Randomize and split the input and output pairs for training\n",
        "\n",
        "Randomly split input and output pairs into sets of data: 60% for training, 20% for validation, and 20% for testing.\n",
        "\n",
        "  - the training set is used to train the model\n",
        "  - the validation set is used to measure how well the model is performing during training\n",
        "  - the testing set is used to test the model after training"
      ]
    },
    {
      "cell_type": "code",
      "execution_count": null,
      "metadata": {
        "id": "QfNEmUZMeIEx",
        "vscode": {
          "languageId": "python"
        },
        "colab": {
          "base_uri": "https://localhost:8080/"
        },
        "outputId": "6f33a056-95e1-4a5a-92ac-88978f6c3d48"
      },
      "outputs": [
        {
          "output_type": "stream",
          "name": "stdout",
          "text": [
            "Data set randomization and splitting complete.\n"
          ]
        }
      ],
      "source": [
        "# Randomize the order of the inputs, so they can be evenly distributed for training, testing, and validation\n",
        "# https://stackoverflow.com/a/37710486/2020087\n",
        "num_inputs = len(inputs)\n",
        "randomize = np.arange(num_inputs)\n",
        "np.random.shuffle(randomize)\n",
        "\n",
        "# Swap the consecutive indexes (0, 1, 2, etc) with the randomized indexes\n",
        "inputs = inputs[randomize]\n",
        "outputs = outputs[randomize]\n",
        "\n",
        "# reshape (for LSTM)\n",
        "inputs = inputs.reshape((-1, SAMPLES_PER_GESTURE, NUM_FEATURES))\n",
        "outputs = np.argmax(outputs, axis=1)\n",
        "\n",
        "# Split the recordings (group of samples) into three sets: training, testing and validation\n",
        "TRAIN_SPLIT = int(0.6 * num_inputs)\n",
        "TEST_SPLIT = int(0.2 * num_inputs + TRAIN_SPLIT)\n",
        "\n",
        "inputs_train, inputs_test, inputs_validate = np.split(inputs, [TRAIN_SPLIT, TEST_SPLIT])\n",
        "outputs_train, outputs_test, outputs_validate = np.split(outputs, [TRAIN_SPLIT, TEST_SPLIT])\n",
        "\n",
        "print(\"Data set randomization and splitting complete.\")"
      ]
    },
    {
      "cell_type": "code",
      "source": [
        "print(inputs_train.shape, inputs_test.shape, inputs_validate.shape)\n",
        "print(outputs_train.shape, outputs_test.shape, outputs_validate.shape)"
      ],
      "metadata": {
        "id": "8w3Hbhj_0bPN",
        "colab": {
          "base_uri": "https://localhost:8080/"
        },
        "outputId": "58e0731e-b30c-4ad7-8ba2-1e7b78919ec9"
      },
      "execution_count": null,
      "outputs": [
        {
          "output_type": "stream",
          "name": "stdout",
          "text": [
            "(485, 150, 8) (161, 150, 8) (163, 150, 8)\n",
            "(485,) (161,) (163,)\n"
          ]
        }
      ]
    },
    {
      "cell_type": "markdown",
      "metadata": {
        "id": "kSxUeYPNQbOg"
      },
      "source": [
        "# Train Neural Network\n",
        "\n",
        "\n",
        "\n"
      ]
    },
    {
      "cell_type": "markdown",
      "metadata": {
        "id": "a9g2n41p24nR"
      },
      "source": [
        "## Build & Train the Model\n",
        "\n",
        "Build and train a [TensorFlow](https://www.tensorflow.org) model using the high-level [Keras](https://www.tensorflow.org/guide/keras) API."
      ]
    },
    {
      "cell_type": "code",
      "source": [
        "# Set random seed again here. If not, TF does not make same outputs.\n",
        "SEED = 47\n",
        "np.random.seed(SEED)\n",
        "tf.random.set_seed(SEED)"
      ],
      "metadata": {
        "id": "k1eRs4MIu9zj"
      },
      "execution_count": null,
      "outputs": []
    },
    {
      "cell_type": "code",
      "source": [
        "from tensorflow import keras\n",
        "\n",
        "'''------ Begin: Model specification ------'''\n",
        "### HERE IS THE SPECIFICATION OF YOUR MODEL ###\n",
        "input_shape = inputs_train.shape[1:]\n",
        "\n",
        "cnn_model_1 = keras.models.Sequential([\n",
        "    keras.layers.BatchNormalization(input_shape=input_shape),\n",
        "    keras.layers.Conv1D(filters=32, kernel_size=7, padding='same',\n",
        "                        activation='relu',\n",
        "                        kernel_initializer=keras.initializers.HeNormal(seed=SEED)),\n",
        "    keras.layers.MaxPooling1D(pool_size=2),\n",
        "    keras.layers.Dropout(rate=0.5),\n",
        "\n",
        "    keras.layers.BatchNormalization(),\n",
        "    keras.layers.Conv1D(filters=64, kernel_size=7, padding='same',\n",
        "                        activation='relu',\n",
        "                        kernel_initializer=keras.initializers.HeNormal(seed=SEED)),\n",
        "    keras.layers.MaxPooling1D(pool_size=2),\n",
        "    keras.layers.Dropout(rate=0.5),\n",
        "\n",
        "    keras.layers.BatchNormalization(),\n",
        "    keras.layers.Conv1D(filters=128, kernel_size=7, padding='same',\n",
        "                        activation='relu',\n",
        "                        kernel_initializer=keras.initializers.HeNormal(seed=SEED)),\n",
        "    keras.layers.MaxPooling1D(pool_size=2),\n",
        "    keras.layers.Dropout(rate=0.5),\n",
        "\n",
        "    keras.layers.BatchNormalization(),\n",
        "    keras.layers.Flatten(),\n",
        "    keras.layers.Dense(10, activation='softmax',\n",
        "                       kernel_initializer=keras.initializers.HeNormal(seed=SEED))\n",
        "])\n",
        "\n",
        "cnn_model_2 = keras.models.Sequential([\n",
        "    keras.layers.BatchNormalization(input_shape=input_shape),\n",
        "    keras.layers.Conv1D(\n",
        "        filters=16, kernel_size=7, padding = \"same\",\n",
        "        activation = keras.activations.relu,\n",
        "        kernel_initializer=keras.initializers.HeNormal(seed=42),\n",
        "    ),\n",
        "    keras.layers.MaxPooling1D(\n",
        "        pool_size=2\n",
        "    ),\n",
        "    keras.layers.Dropout(\n",
        "        rate=0.5\n",
        "    ),\n",
        "\n",
        "    keras.layers.BatchNormalization(),\n",
        "    keras.layers.Conv1D(\n",
        "        filters=64, kernel_size=7, padding = \"same\",\n",
        "        activation = keras.activations.relu,\n",
        "        kernel_initializer=keras.initializers.HeNormal(seed=42),\n",
        "    ),\n",
        "    keras.layers.MaxPooling1D(\n",
        "        pool_size=2\n",
        "    ),\n",
        "    keras.layers.Dropout(\n",
        "        rate=0.5\n",
        "    ),\n",
        "\n",
        "    keras.layers.BatchNormalization(),\n",
        "    keras.layers.Flatten(),\n",
        "    keras.layers.Dense(\n",
        "        units=10,\n",
        "        activation=keras.activations.softmax,\n",
        "        kernel_initializer=keras.initializers.HeNormal(seed=42),\n",
        "    ),\n",
        "])\n",
        "\n",
        "cnn_model_3 = keras.models.Sequential([\n",
        "    keras.layers.BatchNormalization(input_shape=input_shape),\n",
        "    keras.layers.Conv1D(\n",
        "        filters=16, kernel_size=7, padding = \"same\",\n",
        "        activation = keras.activations.relu,\n",
        "        kernel_initializer=keras.initializers.HeNormal(seed=42),\n",
        "    ),\n",
        "    keras.layers.MaxPooling1D(\n",
        "        pool_size=2\n",
        "    ),\n",
        "    keras.layers.Dropout(\n",
        "        rate=0.5\n",
        "    ),\n",
        "\n",
        "    # keras.layers.BatchNormalization(),\n",
        "    # keras.layers.Conv1D(\n",
        "    #     filters=32, kernel_size=7, padding = \"same\",\n",
        "    #     activation = keras.activations.relu,\n",
        "    #     kernel_initializer=keras.initializers.HeNormal(seed=42),\n",
        "    # ),\n",
        "    # keras.layers.MaxPooling1D(\n",
        "    #     pool_size=2\n",
        "    # ),\n",
        "    # keras.layers.Dropout(\n",
        "    #     rate=0.5\n",
        "    # ),\n",
        "\n",
        "    keras.layers.BatchNormalization(),\n",
        "    keras.layers.Flatten(),\n",
        "    keras.layers.Dense(\n",
        "        units=10,\n",
        "        activation=keras.activations.softmax,\n",
        "        kernel_initializer=keras.initializers.HeNormal(seed=42),\n",
        "    ),\n",
        "])\n",
        "\n",
        "lstm_model_1 = keras.models.Sequential([\n",
        "    keras.layers.BatchNormalization(input_shape=input_shape),\n",
        "    keras.layers.LSTM(\n",
        "        units=64,\n",
        "        activation=keras.activations.tanh,\n",
        "        kernel_initializer=keras.initializers.GlorotNormal(seed=SEED),\n",
        "        return_sequences=True\n",
        "    ),\n",
        "    keras.layers.Dropout(\n",
        "        rate=0.5\n",
        "    ),\n",
        "    keras.layers.LSTM(\n",
        "        units=128,\n",
        "        activation=keras.activations.tanh,\n",
        "        kernel_initializer=keras.initializers.GlorotNormal(seed=SEED),\n",
        "        return_sequences=False\n",
        "    ),\n",
        "    keras.layers.Dropout(\n",
        "        rate=0.5\n",
        "    ),\n",
        "    keras.layers.Dense(\n",
        "        units = NUM_GESTURES,\n",
        "        activation=keras.activations.softmax,\n",
        "        kernel_initializer=keras.initializers.GlorotUniform(seed=SEED)\n",
        "    )\n",
        "])\n",
        "\n",
        "lstm_model_2 = keras.models.Sequential([\n",
        "    keras.layers.BatchNormalization(input_shape=input_shape),\n",
        "    keras.layers.LSTM(\n",
        "        units=32,\n",
        "        activation=keras.activations.tanh,\n",
        "        kernel_initializer=keras.initializers.GlorotNormal(seed=SEED),\n",
        "        return_sequences=False\n",
        "    ),\n",
        "    keras.layers.Dropout(\n",
        "        rate=0.5\n",
        "    ),\n",
        "    # keras.layers.LSTM(\n",
        "    #     units=64,\n",
        "    #     activation=keras.activations.tanh,\n",
        "    #     kernel_initializer=keras.initializers.GlorotNormal(seed=SEED),\n",
        "    #     return_sequences=False\n",
        "    # ),\n",
        "    # keras.layers.Dropout(\n",
        "    #     rate=0.5\n",
        "    # ),\n",
        "    keras.layers.Dense(\n",
        "        units=NUM_GESTURES,\n",
        "        activation=keras.activations.softmax,\n",
        "        kernel_initializer=keras.initializers.GlorotUniform(seed=SEED)\n",
        "    )\n",
        "])\n",
        "\n",
        "\n",
        "conv_lstm_model_1 = keras.models.Sequential([\n",
        "    keras.layers.BatchNormalization(input_shape=(150, 8)),\n",
        "    keras.layers.Conv1D(32, 7, activation='relu', padding='same',\n",
        "                        kernel_initializer=keras.initializers.HeNormal(seed=42)),\n",
        "    keras.layers.MaxPooling1D(2),\n",
        "    keras.layers.Dropout(0.5),\n",
        "\n",
        "    keras.layers.Conv1D(64, 7, activation='relu', padding='same',\n",
        "                        kernel_initializer=keras.initializers.HeNormal(seed=42)),\n",
        "    keras.layers.MaxPooling1D(2),\n",
        "    keras.layers.Dropout(0.5),\n",
        "\n",
        "    keras.layers.BatchNormalization(),\n",
        "    keras.layers.LSTM(64, return_sequences=False,\n",
        "                      kernel_initializer=keras.initializers.HeNormal(seed=42)),\n",
        "    keras.layers.Dropout(0.5),\n",
        "\n",
        "    keras.layers.BatchNormalization(),\n",
        "    keras.layers.Dense(10, activation='softmax',\n",
        "                       kernel_initializer=keras.initializers.HeNormal(seed=42))\n",
        "])\n",
        "\n",
        "mlp_model_1 = keras.models.Sequential([\n",
        "    keras.layers.BatchNormalization(input_shape=(150, 8)),\n",
        "    keras.layers.Flatten(),\n",
        "\n",
        "    keras.layers.Dense(64, activation='relu',\n",
        "                       kernel_initializer=keras.initializers.HeNormal(seed=42)),\n",
        "    keras.layers.Dropout(0.5),\n",
        "\n",
        "    # keras.layers.Dense(128, activation='relu',\n",
        "    #                    kernel_initializer=keras.initializers.HeNormal(seed=42)),\n",
        "    # keras.layers.Dropout(0.5),\n",
        "\n",
        "    keras.layers.Dense(32, activation='relu',\n",
        "                       kernel_initializer=keras.initializers.HeNormal(seed=42)),\n",
        "    keras.layers.Dropout(0.5),\n",
        "\n",
        "    keras.layers.Dense(10, activation='softmax',\n",
        "                       kernel_initializer=keras.initializers.HeNormal(seed=42)),\n",
        "])\n",
        "\n",
        "model = cnn_model_3\n",
        "# model = lstm_model_2\n",
        "# model = conv_lstm_model_1\n",
        "# model = mlp_model_1\n",
        "print(model.summary())\n",
        "\n",
        "'''------ End: Model specification ------'''\n",
        "\n",
        "'''------ Begin: Model compiling ------'''\n",
        "model.compile(\n",
        "    # We will use a logistic loss as the loss function.\n",
        "    # But, you can use any optimizers, metrics, or other options here.\n",
        "    loss=keras.losses.SparseCategoricalCrossentropy(),\n",
        "    optimizer=keras.optimizers.Adam(),\n",
        "    metrics=[\n",
        "            keras.metrics.SparseCategoricalAccuracy(),\n",
        "            'mae',\n",
        "    ]\n",
        "    ### HERE IS THE SPECIFICATION OF OPTIMIZER, METRICS, etc... ###\n",
        ")\n",
        "'''------ End: Model compiling ------'''\n",
        "\n",
        "'''------ Begin: Model fitting ------'''\n",
        "history = model.fit(\n",
        "    x=inputs_train,\n",
        "    y=outputs_train,\n",
        "    ### HERE IS THE SPECIFICATION OF TRAINING OPTIONS ###\n",
        "    batch_size=32,\n",
        "    epochs=200,\n",
        "    validation_data=(inputs_validate, outputs_validate),\n",
        "    callbacks=[\n",
        "        keras.callbacks.TensorBoard(log_dir=f'./logs/0', histogram_freq=1),\n",
        "        keras.callbacks.EarlyStopping(\n",
        "            monitor='val_sparse_categorical_accuracy', min_delta=0.0005, patience=30, verbose=0, mode='auto',\n",
        "            baseline=None, restore_best_weights=True\n",
        "        )\n",
        "    ]\n",
        ")\n",
        "'''------ End: Model fitting ------'''"
      ],
      "metadata": {
        "colab": {
          "base_uri": "https://localhost:8080/",
          "height": 1000
        },
        "id": "m3voNLXBvA0A",
        "outputId": "68785829-f593-43dc-c371-7cf7f888739e"
      },
      "execution_count": null,
      "outputs": [
        {
          "output_type": "stream",
          "name": "stdout",
          "text": [
            "Model: \"sequential_9\"\n",
            "_________________________________________________________________\n",
            " Layer (type)                Output Shape              Param #   \n",
            "=================================================================\n",
            " batch_normalization_22 (Bat  (None, 150, 8)           32        \n",
            " chNormalization)                                                \n",
            "                                                                 \n",
            " conv1d_13 (Conv1D)          (None, 150, 16)           912       \n",
            "                                                                 \n",
            " max_pooling1d_13 (MaxPoolin  (None, 75, 16)           0         \n",
            " g1D)                                                            \n",
            "                                                                 \n",
            " dropout_19 (Dropout)        (None, 75, 16)            0         \n",
            "                                                                 \n",
            " batch_normalization_23 (Bat  (None, 75, 16)           64        \n",
            " chNormalization)                                                \n",
            "                                                                 \n",
            " flatten_6 (Flatten)         (None, 1200)              0         \n",
            "                                                                 \n",
            " dense_11 (Dense)            (None, 10)                12010     \n",
            "                                                                 \n",
            "=================================================================\n",
            "Total params: 13,018\n",
            "Trainable params: 12,970\n",
            "Non-trainable params: 48\n",
            "_________________________________________________________________\n",
            "None\n",
            "Epoch 1/200\n",
            "16/16 [==============================] - 3s 33ms/step - loss: 1.9503 - sparse_categorical_accuracy: 0.3856 - mae: 4.6023 - val_loss: 2.7879 - val_sparse_categorical_accuracy: 0.1472 - val_mae: 4.4877\n",
            "Epoch 2/200\n",
            "16/16 [==============================] - 0s 13ms/step - loss: 0.9120 - sparse_categorical_accuracy: 0.6784 - mae: 4.6023 - val_loss: 2.9830 - val_sparse_categorical_accuracy: 0.1472 - val_mae: 4.4877\n",
            "Epoch 3/200\n",
            "16/16 [==============================] - 0s 16ms/step - loss: 0.6204 - sparse_categorical_accuracy: 0.7773 - mae: 4.6023 - val_loss: 2.6642 - val_sparse_categorical_accuracy: 0.1472 - val_mae: 4.4877\n",
            "Epoch 4/200\n",
            "16/16 [==============================] - 0s 29ms/step - loss: 0.5649 - sparse_categorical_accuracy: 0.7918 - mae: 4.6023 - val_loss: 2.3360 - val_sparse_categorical_accuracy: 0.1595 - val_mae: 4.4877\n",
            "Epoch 5/200\n",
            "16/16 [==============================] - 1s 33ms/step - loss: 0.4637 - sparse_categorical_accuracy: 0.8351 - mae: 4.6023 - val_loss: 2.0817 - val_sparse_categorical_accuracy: 0.1902 - val_mae: 4.4877\n",
            "Epoch 6/200\n",
            "16/16 [==============================] - 0s 25ms/step - loss: 0.4209 - sparse_categorical_accuracy: 0.8577 - mae: 4.6023 - val_loss: 1.9601 - val_sparse_categorical_accuracy: 0.3436 - val_mae: 4.4877\n",
            "Epoch 7/200\n",
            "16/16 [==============================] - 0s 25ms/step - loss: 0.3969 - sparse_categorical_accuracy: 0.8515 - mae: 4.6023 - val_loss: 1.9456 - val_sparse_categorical_accuracy: 0.2270 - val_mae: 4.4877\n",
            "Epoch 8/200\n",
            "16/16 [==============================] - 0s 22ms/step - loss: 0.3743 - sparse_categorical_accuracy: 0.8722 - mae: 4.6023 - val_loss: 2.0860 - val_sparse_categorical_accuracy: 0.1656 - val_mae: 4.4877\n",
            "Epoch 9/200\n",
            "16/16 [==============================] - 0s 24ms/step - loss: 0.3558 - sparse_categorical_accuracy: 0.8784 - mae: 4.6023 - val_loss: 1.9873 - val_sparse_categorical_accuracy: 0.1779 - val_mae: 4.4877\n",
            "Epoch 10/200\n",
            "16/16 [==============================] - 0s 24ms/step - loss: 0.3496 - sparse_categorical_accuracy: 0.8577 - mae: 4.6023 - val_loss: 1.9971 - val_sparse_categorical_accuracy: 0.1779 - val_mae: 4.4877\n",
            "Epoch 11/200\n",
            "16/16 [==============================] - 0s 21ms/step - loss: 0.2862 - sparse_categorical_accuracy: 0.9010 - mae: 4.6023 - val_loss: 2.0443 - val_sparse_categorical_accuracy: 0.1779 - val_mae: 4.4877\n",
            "Epoch 12/200\n",
            "16/16 [==============================] - 0s 25ms/step - loss: 0.2724 - sparse_categorical_accuracy: 0.9155 - mae: 4.6023 - val_loss: 2.1191 - val_sparse_categorical_accuracy: 0.1779 - val_mae: 4.4877\n",
            "Epoch 13/200\n",
            "16/16 [==============================] - 0s 31ms/step - loss: 0.2902 - sparse_categorical_accuracy: 0.8825 - mae: 4.6023 - val_loss: 2.1853 - val_sparse_categorical_accuracy: 0.1779 - val_mae: 4.4877\n",
            "Epoch 14/200\n",
            "16/16 [==============================] - 0s 28ms/step - loss: 0.2405 - sparse_categorical_accuracy: 0.9258 - mae: 4.6023 - val_loss: 2.2864 - val_sparse_categorical_accuracy: 0.1779 - val_mae: 4.4877\n",
            "Epoch 15/200\n",
            "16/16 [==============================] - 0s 22ms/step - loss: 0.2334 - sparse_categorical_accuracy: 0.9340 - mae: 4.6023 - val_loss: 2.2916 - val_sparse_categorical_accuracy: 0.1779 - val_mae: 4.4877\n",
            "Epoch 16/200\n",
            "16/16 [==============================] - 0s 25ms/step - loss: 0.2332 - sparse_categorical_accuracy: 0.9155 - mae: 4.6023 - val_loss: 2.2451 - val_sparse_categorical_accuracy: 0.1840 - val_mae: 4.4877\n",
            "Epoch 17/200\n",
            "16/16 [==============================] - 1s 34ms/step - loss: 0.2200 - sparse_categorical_accuracy: 0.9299 - mae: 4.6023 - val_loss: 2.2334 - val_sparse_categorical_accuracy: 0.2086 - val_mae: 4.4877\n",
            "Epoch 18/200\n",
            "16/16 [==============================] - 0s 21ms/step - loss: 0.1901 - sparse_categorical_accuracy: 0.9423 - mae: 4.6023 - val_loss: 2.2090 - val_sparse_categorical_accuracy: 0.2393 - val_mae: 4.4877\n",
            "Epoch 19/200\n",
            "16/16 [==============================] - 0s 32ms/step - loss: 0.2101 - sparse_categorical_accuracy: 0.9381 - mae: 4.6023 - val_loss: 2.2647 - val_sparse_categorical_accuracy: 0.2086 - val_mae: 4.4877\n",
            "Epoch 20/200\n",
            "16/16 [==============================] - 1s 38ms/step - loss: 0.2116 - sparse_categorical_accuracy: 0.9299 - mae: 4.6023 - val_loss: 2.0588 - val_sparse_categorical_accuracy: 0.2454 - val_mae: 4.4877\n",
            "Epoch 21/200\n",
            "16/16 [==============================] - 1s 42ms/step - loss: 0.1695 - sparse_categorical_accuracy: 0.9381 - mae: 4.6023 - val_loss: 1.9150 - val_sparse_categorical_accuracy: 0.3252 - val_mae: 4.4877\n",
            "Epoch 22/200\n",
            "16/16 [==============================] - 1s 39ms/step - loss: 0.1828 - sparse_categorical_accuracy: 0.9567 - mae: 4.6023 - val_loss: 1.8500 - val_sparse_categorical_accuracy: 0.3190 - val_mae: 4.4877\n",
            "Epoch 23/200\n",
            "16/16 [==============================] - 1s 36ms/step - loss: 0.1766 - sparse_categorical_accuracy: 0.9546 - mae: 4.6023 - val_loss: 1.8282 - val_sparse_categorical_accuracy: 0.3620 - val_mae: 4.4877\n",
            "Epoch 24/200\n",
            "16/16 [==============================] - 1s 35ms/step - loss: 0.1833 - sparse_categorical_accuracy: 0.9381 - mae: 4.6023 - val_loss: 1.6485 - val_sparse_categorical_accuracy: 0.4356 - val_mae: 4.4877\n",
            "Epoch 25/200\n",
            "16/16 [==============================] - 0s 25ms/step - loss: 0.1776 - sparse_categorical_accuracy: 0.9485 - mae: 4.6023 - val_loss: 1.6490 - val_sparse_categorical_accuracy: 0.4110 - val_mae: 4.4877\n",
            "Epoch 26/200\n",
            "16/16 [==============================] - 0s 32ms/step - loss: 0.1437 - sparse_categorical_accuracy: 0.9567 - mae: 4.6023 - val_loss: 1.3781 - val_sparse_categorical_accuracy: 0.4724 - val_mae: 4.4877\n",
            "Epoch 27/200\n",
            "16/16 [==============================] - 0s 28ms/step - loss: 0.1575 - sparse_categorical_accuracy: 0.9629 - mae: 4.6023 - val_loss: 1.1900 - val_sparse_categorical_accuracy: 0.5828 - val_mae: 4.4877\n",
            "Epoch 28/200\n",
            "16/16 [==============================] - 0s 21ms/step - loss: 0.1792 - sparse_categorical_accuracy: 0.9464 - mae: 4.6023 - val_loss: 1.0721 - val_sparse_categorical_accuracy: 0.5828 - val_mae: 4.4877\n",
            "Epoch 29/200\n",
            "16/16 [==============================] - 0s 26ms/step - loss: 0.1489 - sparse_categorical_accuracy: 0.9546 - mae: 4.6023 - val_loss: 0.9603 - val_sparse_categorical_accuracy: 0.6380 - val_mae: 4.4877\n",
            "Epoch 30/200\n",
            "16/16 [==============================] - 0s 27ms/step - loss: 0.1156 - sparse_categorical_accuracy: 0.9691 - mae: 4.6023 - val_loss: 0.7876 - val_sparse_categorical_accuracy: 0.7239 - val_mae: 4.4877\n",
            "Epoch 31/200\n",
            "16/16 [==============================] - 0s 31ms/step - loss: 0.1196 - sparse_categorical_accuracy: 0.9691 - mae: 4.6023 - val_loss: 0.6415 - val_sparse_categorical_accuracy: 0.8098 - val_mae: 4.4877\n",
            "Epoch 32/200\n",
            "16/16 [==============================] - 0s 31ms/step - loss: 0.1312 - sparse_categorical_accuracy: 0.9608 - mae: 4.6023 - val_loss: 0.5496 - val_sparse_categorical_accuracy: 0.8160 - val_mae: 4.4877\n",
            "Epoch 33/200\n",
            "16/16 [==============================] - 0s 27ms/step - loss: 0.1410 - sparse_categorical_accuracy: 0.9567 - mae: 4.6023 - val_loss: 0.4979 - val_sparse_categorical_accuracy: 0.8344 - val_mae: 4.4877\n",
            "Epoch 34/200\n",
            "16/16 [==============================] - 1s 38ms/step - loss: 0.1431 - sparse_categorical_accuracy: 0.9443 - mae: 4.6023 - val_loss: 0.4409 - val_sparse_categorical_accuracy: 0.8466 - val_mae: 4.4877\n",
            "Epoch 35/200\n",
            "16/16 [==============================] - 0s 26ms/step - loss: 0.1151 - sparse_categorical_accuracy: 0.9670 - mae: 4.6023 - val_loss: 0.3991 - val_sparse_categorical_accuracy: 0.8650 - val_mae: 4.4877\n",
            "Epoch 36/200\n",
            "16/16 [==============================] - 0s 23ms/step - loss: 0.1391 - sparse_categorical_accuracy: 0.9567 - mae: 4.6023 - val_loss: 0.3507 - val_sparse_categorical_accuracy: 0.8957 - val_mae: 4.4877\n",
            "Epoch 37/200\n",
            "16/16 [==============================] - 0s 29ms/step - loss: 0.1390 - sparse_categorical_accuracy: 0.9526 - mae: 4.6023 - val_loss: 0.3078 - val_sparse_categorical_accuracy: 0.9080 - val_mae: 4.4877\n",
            "Epoch 38/200\n",
            "16/16 [==============================] - 0s 29ms/step - loss: 0.1118 - sparse_categorical_accuracy: 0.9732 - mae: 4.6023 - val_loss: 0.2883 - val_sparse_categorical_accuracy: 0.9448 - val_mae: 4.4877\n",
            "Epoch 39/200\n",
            "16/16 [==============================] - 0s 29ms/step - loss: 0.1127 - sparse_categorical_accuracy: 0.9649 - mae: 4.6023 - val_loss: 0.2488 - val_sparse_categorical_accuracy: 0.9571 - val_mae: 4.4877\n",
            "Epoch 40/200\n",
            "16/16 [==============================] - 1s 33ms/step - loss: 0.1177 - sparse_categorical_accuracy: 0.9691 - mae: 4.6023 - val_loss: 0.2451 - val_sparse_categorical_accuracy: 0.9387 - val_mae: 4.4877\n",
            "Epoch 41/200\n",
            "16/16 [==============================] - 1s 35ms/step - loss: 0.0972 - sparse_categorical_accuracy: 0.9794 - mae: 4.6023 - val_loss: 0.2007 - val_sparse_categorical_accuracy: 0.9571 - val_mae: 4.4877\n",
            "Epoch 42/200\n",
            "16/16 [==============================] - 0s 31ms/step - loss: 0.0962 - sparse_categorical_accuracy: 0.9753 - mae: 4.6023 - val_loss: 0.1889 - val_sparse_categorical_accuracy: 0.9571 - val_mae: 4.4877\n",
            "Epoch 43/200\n",
            "16/16 [==============================] - 1s 37ms/step - loss: 0.1010 - sparse_categorical_accuracy: 0.9732 - mae: 4.6023 - val_loss: 0.1682 - val_sparse_categorical_accuracy: 0.9693 - val_mae: 4.4877\n",
            "Epoch 44/200\n",
            "16/16 [==============================] - 1s 34ms/step - loss: 0.1068 - sparse_categorical_accuracy: 0.9649 - mae: 4.6023 - val_loss: 0.1511 - val_sparse_categorical_accuracy: 0.9693 - val_mae: 4.4877\n",
            "Epoch 45/200\n",
            "16/16 [==============================] - 1s 39ms/step - loss: 0.0913 - sparse_categorical_accuracy: 0.9753 - mae: 4.6023 - val_loss: 0.1549 - val_sparse_categorical_accuracy: 0.9693 - val_mae: 4.4877\n",
            "Epoch 46/200\n",
            "16/16 [==============================] - 1s 53ms/step - loss: 0.0799 - sparse_categorical_accuracy: 0.9835 - mae: 4.6023 - val_loss: 0.1360 - val_sparse_categorical_accuracy: 0.9693 - val_mae: 4.4877\n",
            "Epoch 47/200\n",
            "16/16 [==============================] - 1s 46ms/step - loss: 0.0779 - sparse_categorical_accuracy: 0.9732 - mae: 4.6023 - val_loss: 0.1275 - val_sparse_categorical_accuracy: 0.9755 - val_mae: 4.4877\n",
            "Epoch 48/200\n",
            "16/16 [==============================] - 1s 39ms/step - loss: 0.1031 - sparse_categorical_accuracy: 0.9711 - mae: 4.6023 - val_loss: 0.1203 - val_sparse_categorical_accuracy: 0.9693 - val_mae: 4.4877\n",
            "Epoch 49/200\n",
            "16/16 [==============================] - 0s 28ms/step - loss: 0.1087 - sparse_categorical_accuracy: 0.9649 - mae: 4.6023 - val_loss: 0.1248 - val_sparse_categorical_accuracy: 0.9632 - val_mae: 4.4877\n",
            "Epoch 50/200\n",
            "16/16 [==============================] - 0s 28ms/step - loss: 0.0835 - sparse_categorical_accuracy: 0.9711 - mae: 4.6023 - val_loss: 0.1185 - val_sparse_categorical_accuracy: 0.9693 - val_mae: 4.4877\n",
            "Epoch 51/200\n",
            "16/16 [==============================] - 1s 33ms/step - loss: 0.0588 - sparse_categorical_accuracy: 0.9856 - mae: 4.6023 - val_loss: 0.1124 - val_sparse_categorical_accuracy: 0.9693 - val_mae: 4.4877\n",
            "Epoch 52/200\n",
            "16/16 [==============================] - 0s 24ms/step - loss: 0.1086 - sparse_categorical_accuracy: 0.9649 - mae: 4.6023 - val_loss: 0.1194 - val_sparse_categorical_accuracy: 0.9693 - val_mae: 4.4877\n",
            "Epoch 53/200\n",
            "16/16 [==============================] - 0s 22ms/step - loss: 0.0816 - sparse_categorical_accuracy: 0.9753 - mae: 4.6023 - val_loss: 0.1181 - val_sparse_categorical_accuracy: 0.9693 - val_mae: 4.4877\n",
            "Epoch 54/200\n",
            "16/16 [==============================] - 0s 21ms/step - loss: 0.0700 - sparse_categorical_accuracy: 0.9773 - mae: 4.6023 - val_loss: 0.1077 - val_sparse_categorical_accuracy: 0.9693 - val_mae: 4.4877\n",
            "Epoch 55/200\n",
            "16/16 [==============================] - 1s 35ms/step - loss: 0.0842 - sparse_categorical_accuracy: 0.9691 - mae: 4.6023 - val_loss: 0.1248 - val_sparse_categorical_accuracy: 0.9693 - val_mae: 4.4877\n",
            "Epoch 56/200\n",
            "16/16 [==============================] - 0s 24ms/step - loss: 0.0562 - sparse_categorical_accuracy: 0.9835 - mae: 4.6023 - val_loss: 0.1185 - val_sparse_categorical_accuracy: 0.9632 - val_mae: 4.4877\n",
            "Epoch 57/200\n",
            "16/16 [==============================] - 0s 20ms/step - loss: 0.0817 - sparse_categorical_accuracy: 0.9794 - mae: 4.6023 - val_loss: 0.1067 - val_sparse_categorical_accuracy: 0.9693 - val_mae: 4.4877\n",
            "Epoch 58/200\n",
            "16/16 [==============================] - 0s 23ms/step - loss: 0.0791 - sparse_categorical_accuracy: 0.9753 - mae: 4.6023 - val_loss: 0.0991 - val_sparse_categorical_accuracy: 0.9693 - val_mae: 4.4877\n",
            "Epoch 59/200\n",
            "16/16 [==============================] - 0s 23ms/step - loss: 0.0588 - sparse_categorical_accuracy: 0.9835 - mae: 4.6023 - val_loss: 0.1150 - val_sparse_categorical_accuracy: 0.9632 - val_mae: 4.4877\n",
            "Epoch 60/200\n",
            "16/16 [==============================] - 1s 33ms/step - loss: 0.0686 - sparse_categorical_accuracy: 0.9814 - mae: 4.6023 - val_loss: 0.1142 - val_sparse_categorical_accuracy: 0.9571 - val_mae: 4.4877\n",
            "Epoch 61/200\n",
            "16/16 [==============================] - 0s 29ms/step - loss: 0.0651 - sparse_categorical_accuracy: 0.9773 - mae: 4.6023 - val_loss: 0.1063 - val_sparse_categorical_accuracy: 0.9693 - val_mae: 4.4877\n",
            "Epoch 62/200\n",
            "16/16 [==============================] - 0s 25ms/step - loss: 0.0883 - sparse_categorical_accuracy: 0.9691 - mae: 4.6023 - val_loss: 0.1098 - val_sparse_categorical_accuracy: 0.9693 - val_mae: 4.4877\n",
            "Epoch 63/200\n",
            "16/16 [==============================] - 0s 26ms/step - loss: 0.0705 - sparse_categorical_accuracy: 0.9814 - mae: 4.6023 - val_loss: 0.1241 - val_sparse_categorical_accuracy: 0.9693 - val_mae: 4.4877\n",
            "Epoch 64/200\n",
            "16/16 [==============================] - 0s 13ms/step - loss: 0.0726 - sparse_categorical_accuracy: 0.9773 - mae: 4.6023 - val_loss: 0.1160 - val_sparse_categorical_accuracy: 0.9632 - val_mae: 4.4877\n",
            "Epoch 65/200\n",
            "16/16 [==============================] - 0s 14ms/step - loss: 0.0637 - sparse_categorical_accuracy: 0.9794 - mae: 4.6023 - val_loss: 0.1088 - val_sparse_categorical_accuracy: 0.9693 - val_mae: 4.4877\n",
            "Epoch 66/200\n",
            "16/16 [==============================] - 0s 15ms/step - loss: 0.0643 - sparse_categorical_accuracy: 0.9835 - mae: 4.6023 - val_loss: 0.0999 - val_sparse_categorical_accuracy: 0.9755 - val_mae: 4.4877\n",
            "Epoch 67/200\n",
            "16/16 [==============================] - 0s 13ms/step - loss: 0.0500 - sparse_categorical_accuracy: 0.9835 - mae: 4.6023 - val_loss: 0.1042 - val_sparse_categorical_accuracy: 0.9693 - val_mae: 4.4877\n",
            "Epoch 68/200\n",
            "16/16 [==============================] - 0s 13ms/step - loss: 0.0589 - sparse_categorical_accuracy: 0.9835 - mae: 4.6023 - val_loss: 0.1009 - val_sparse_categorical_accuracy: 0.9693 - val_mae: 4.4877\n",
            "Epoch 69/200\n",
            "16/16 [==============================] - 0s 12ms/step - loss: 0.0617 - sparse_categorical_accuracy: 0.9814 - mae: 4.6023 - val_loss: 0.0985 - val_sparse_categorical_accuracy: 0.9693 - val_mae: 4.4877\n",
            "Epoch 70/200\n",
            "16/16 [==============================] - 0s 14ms/step - loss: 0.0633 - sparse_categorical_accuracy: 0.9856 - mae: 4.6023 - val_loss: 0.0939 - val_sparse_categorical_accuracy: 0.9693 - val_mae: 4.4877\n",
            "Epoch 71/200\n",
            "16/16 [==============================] - 0s 13ms/step - loss: 0.0751 - sparse_categorical_accuracy: 0.9711 - mae: 4.6023 - val_loss: 0.1151 - val_sparse_categorical_accuracy: 0.9693 - val_mae: 4.4877\n",
            "Epoch 72/200\n",
            "16/16 [==============================] - 0s 14ms/step - loss: 0.0416 - sparse_categorical_accuracy: 0.9897 - mae: 4.6023 - val_loss: 0.1177 - val_sparse_categorical_accuracy: 0.9632 - val_mae: 4.4877\n",
            "Epoch 73/200\n",
            "16/16 [==============================] - 0s 16ms/step - loss: 0.0621 - sparse_categorical_accuracy: 0.9835 - mae: 4.6023 - val_loss: 0.1082 - val_sparse_categorical_accuracy: 0.9632 - val_mae: 4.4877\n",
            "Epoch 74/200\n",
            "16/16 [==============================] - 0s 13ms/step - loss: 0.0484 - sparse_categorical_accuracy: 0.9876 - mae: 4.6023 - val_loss: 0.0886 - val_sparse_categorical_accuracy: 0.9693 - val_mae: 4.4877\n",
            "Epoch 75/200\n",
            "16/16 [==============================] - 0s 14ms/step - loss: 0.0622 - sparse_categorical_accuracy: 0.9835 - mae: 4.6023 - val_loss: 0.0850 - val_sparse_categorical_accuracy: 0.9693 - val_mae: 4.4877\n",
            "Epoch 76/200\n",
            "16/16 [==============================] - 0s 13ms/step - loss: 0.0478 - sparse_categorical_accuracy: 0.9794 - mae: 4.6023 - val_loss: 0.0929 - val_sparse_categorical_accuracy: 0.9693 - val_mae: 4.4877\n",
            "Epoch 77/200\n",
            "16/16 [==============================] - 0s 13ms/step - loss: 0.0396 - sparse_categorical_accuracy: 0.9897 - mae: 4.6023 - val_loss: 0.1062 - val_sparse_categorical_accuracy: 0.9632 - val_mae: 4.4877\n"
          ]
        },
        {
          "output_type": "execute_result",
          "data": {
            "text/plain": [
              "'------ End: Model fitting ------'"
            ],
            "application/vnd.google.colaboratory.intrinsic+json": {
              "type": "string"
            }
          },
          "metadata": {},
          "execution_count": 31
        }
      ]
    },
    {
      "cell_type": "markdown",
      "metadata": {
        "id": "NUDPvaJE1wRE"
      },
      "source": [
        "## Verify\n",
        "\n",
        "Graph the models performance vs validation.\n"
      ]
    },
    {
      "cell_type": "markdown",
      "metadata": {
        "id": "kxA0zCOaS35v"
      },
      "source": [
        "### Graph the loss\n",
        "\n",
        "Graph the loss to see when the model stops improving."
      ]
    },
    {
      "cell_type": "code",
      "execution_count": null,
      "metadata": {
        "id": "bvFNHXoQzmcM",
        "vscode": {
          "languageId": "python"
        },
        "colab": {
          "base_uri": "https://localhost:8080/",
          "height": 571
        },
        "outputId": "f396724c-eba2-4b82-ad19-3c1e3c170bc1"
      },
      "outputs": [
        {
          "output_type": "display_data",
          "data": {
            "text/plain": [
              "<Figure size 2000x1000 with 1 Axes>"
            ],
            "image/png": "[encoded data removed]"
          },
          "metadata": {}
        },
        {
          "output_type": "stream",
          "name": "stdout",
          "text": [
            "[20.0, 10.0]\n"
          ]
        }
      ],
      "source": [
        "# increase the size of the graphs. The default size is (6,4).\n",
        "plt.rcParams[\"figure.figsize\"] = (20,10)\n",
        "\n",
        "# graph the loss, the model above is configure to use \"mean squared error\" as the loss function\n",
        "loss = history.history['loss']\n",
        "val_loss = history.history['val_loss']\n",
        "epochs = range(1, len(loss) + 1)\n",
        "plt.plot(epochs, loss, 'g.', label='Training loss')\n",
        "plt.plot(epochs, val_loss, 'b', label='Validation loss')\n",
        "plt.title('Training and validation loss')\n",
        "plt.xlabel('Epochs')\n",
        "plt.ylabel('Loss')\n",
        "plt.legend()\n",
        "plt.show()\n",
        "\n",
        "print(plt.rcParams[\"figure.figsize\"])"
      ]
    },
    {
      "cell_type": "markdown",
      "metadata": {
        "id": "DG3m-VpE1zOd"
      },
      "source": [
        "### Graph the loss again, skipping a bit of the start\n",
        "\n",
        "We'll graph the same data as the previous code cell, but start at index 100 so we can further zoom in once the model starts to converge."
      ]
    },
    {
      "cell_type": "code",
      "execution_count": null,
      "metadata": {
        "id": "c3xT7ue2zovd",
        "vscode": {
          "languageId": "python"
        },
        "colab": {
          "base_uri": "https://localhost:8080/",
          "height": 550
        },
        "outputId": "20d809fb-334e-4b67-84b7-8b846c809467"
      },
      "outputs": [
        {
          "output_type": "display_data",
          "data": {
            "text/plain": [
              "<Figure size 2000x1000 with 1 Axes>"
            ],
            "image/png": "[encoded data removed]"
          },
          "metadata": {}
        }
      ],
      "source": [
        "# graph the loss again skipping a bit of the start\n",
        "SKIP = 20\n",
        "plt.plot(epochs[SKIP:], loss[SKIP:], 'g.', label='Training loss')\n",
        "plt.plot(epochs[SKIP:], val_loss[SKIP:], 'b.', label='Validation loss')\n",
        "plt.title('Training and validation loss')\n",
        "plt.xlabel('Epochs')\n",
        "plt.ylabel('Loss')\n",
        "plt.legend()\n",
        "plt.show()"
      ]
    },
    {
      "cell_type": "markdown",
      "metadata": {
        "id": "CRjvkFQy2RgS"
      },
      "source": [
        "### Graph the mean absolute error\n",
        "\n",
        "[Mean absolute error](https://en.wikipedia.org/wiki/Mean_absolute_error) is another metric to judge the performance of the model.\n",
        "\n"
      ]
    },
    {
      "cell_type": "code",
      "execution_count": null,
      "metadata": {
        "id": "mBjCf1-2zx9C",
        "vscode": {
          "languageId": "python"
        },
        "colab": {
          "base_uri": "https://localhost:8080/",
          "height": 550
        },
        "outputId": "a7b15973-b90a-49f3-9dd3-0d6d441ee6bb"
      },
      "outputs": [
        {
          "output_type": "display_data",
          "data": {
            "text/plain": [
              "<Figure size 2000x1000 with 1 Axes>"
            ],
            "image/png": "[encoded data removed]"
          },
          "metadata": {}
        }
      ],
      "source": [
        "# graph of mean absolute error\n",
        "mae = history.history['mae']\n",
        "val_mae = history.history['val_mae']\n",
        "plt.plot(epochs[SKIP:], mae[SKIP:], 'g.', label='Training MAE')\n",
        "plt.plot(epochs[SKIP:], val_mae[SKIP:], 'b.', label='Validation MAE')\n",
        "plt.title('Training and validation mean absolute error')\n",
        "plt.xlabel('Epochs')\n",
        "plt.ylabel('MAE')\n",
        "plt.legend()\n",
        "plt.show()\n"
      ]
    },
    {
      "cell_type": "markdown",
      "metadata": {
        "id": "guMjtfa42ahM"
      },
      "source": [
        "### Run with test data\n",
        "Put our test data into the model and plot the predictions\n"
      ]
    },
    {
      "cell_type": "code",
      "source": [
        "from sklearn.metrics import accuracy_score\n",
        "\n",
        "predictions = np.argmax(model.predict(inputs_test), axis=1)\n",
        "acc = accuracy_score(outputs_test, predictions)\n",
        "print(predictions)\n",
        "print(outputs_test)\n",
        "\n",
        "print(f'Accuracy: {acc * 100:.2f} %.')"
      ],
      "metadata": {
        "colab": {
          "base_uri": "https://localhost:8080/"
        },
        "id": "47mkO68GtDj9",
        "outputId": "34295632-bcd3-49b9-8beb-ab15c9d43953"
      },
      "execution_count": null,
      "outputs": [
        {
          "output_type": "stream",
          "name": "stdout",
          "text": [
            "6/6 [==============================] - 0s 4ms/step\n",
            "[4 6 6 3 0 2 9 1 4 9 8 6 4 2 4 6 3 7 9 1 6 5 9 1 7 7 5 5 5 9 4 6 4 6 6 0 9\n",
            " 9 7 5 3 3 2 0 4 2 9 2 8 9 0 7 7 0 3 9 8 1 3 4 7 1 2 7 2 4 1 9 4 4 2 3 0 1\n",
            " 2 5 3 9 2 3 7 0 9 2 0 9 4 0 0 2 1 0 6 6 8 4 2 1 4 7 0 7 0 8 0 1 5 1 6 8 9\n",
            " 8 8 4 3 1 0 0 2 9 3 3 4 3 0 1 1 1 3 2 0 9 5 8 7 2 4 7 7 7 2 9 0 5 7 2 2 5\n",
            " 3 7 6 7 8 2 4 6 0 1 8 0 3]\n",
            "[4 6 6 3 0 2 9 1 4 9 8 6 4 2 4 6 3 7 9 1 6 5 0 6 7 7 5 5 5 9 4 6 4 6 6 0 9\n",
            " 9 2 5 3 3 2 0 4 2 9 2 8 9 0 7 7 0 3 9 8 1 3 4 7 1 2 7 7 4 1 5 4 4 2 3 0 1\n",
            " 2 5 3 0 2 3 7 0 9 1 0 9 4 0 0 2 1 0 0 0 8 4 2 1 4 7 0 7 0 8 0 1 5 1 6 8 9\n",
            " 8 8 4 3 1 0 0 2 9 3 3 4 3 0 1 1 1 3 2 0 9 5 8 7 2 4 7 7 7 2 9 0 5 7 2 2 5\n",
            " 3 7 6 7 8 2 3 6 0 1 8 0 3]\n",
            "Accuracy: 93.79 %.\n"
          ]
        }
      ]
    },
    {
      "cell_type": "code",
      "source": [
        "# Save tensorflow model\n",
        "import os\n",
        "MODELS_DIR = 'models/'\n",
        "if not os.path.exists(MODELS_DIR):\n",
        "    os.mkdir(MODELS_DIR)\n",
        "\n",
        "model.save(MODELS_DIR + 'model.h5')"
      ],
      "metadata": {
        "id": "_VDWeEoTaoId"
      },
      "execution_count": null,
      "outputs": []
    },
    {
      "cell_type": "markdown",
      "metadata": {
        "id": "j7DO6xxXVCym"
      },
      "source": [
        "# Convert the Trained Model to Tensor Flow Lite\n",
        "\n",
        "The next cell converts the model to TFlite format. The size in bytes of the model is also printed out."
      ]
    },
    {
      "cell_type": "markdown",
      "source": [
        "**Run from this cell if you have model.h**"
      ],
      "metadata": {
        "id": "IDIXVivlFTfj"
      }
    },
    {
      "cell_type": "markdown",
      "source": [
        "## Load model and parse data (again)"
      ],
      "metadata": {
        "id": "574He8FwFmFi"
      }
    },
    {
      "cell_type": "code",
      "source": [
        "import matplotlib.pyplot as plt\n",
        "import numpy as np\n",
        "import pandas as pd\n",
        "import tensorflow as tf\n",
        "\n",
        "# load tensorflow model\n",
        "MODELS_DIR = 'models/'\n",
        "model = tf.keras.models.load_model(MODELS_DIR + 'model.h5')\n",
        "\n",
        "parse_data_again = False"
      ],
      "metadata": {
        "id": "oP6-XpQsaZ0j"
      },
      "execution_count": null,
      "outputs": []
    },
    {
      "cell_type": "code",
      "source": [
        "if parse_data_again:\n",
        "    filepath = '/content/'\n",
        "\n",
        "    print(f\"TensorFlow version = {tf.__version__}\\n\")\n",
        "\n",
        "    # Set a fixed random seed value, for reproducibility, this will allow us to get\n",
        "    # the same random numbers each time the notebook is run\n",
        "    SEED = 47\n",
        "    np.random.seed(SEED)\n",
        "    tf.random.set_seed(SEED)\n",
        "\n",
        "    # the list of gestures that data is available for\n",
        "    GESTURES = [\n",
        "        \"fist_left\",\n",
        "        \"fist_right\",\n",
        "        \"fist_up\",\n",
        "        \"fist_down\",\n",
        "        \"fist_center\",\n",
        "        \"palm_left\",\n",
        "        \"palm_right\",\n",
        "        \"palm_up\",\n",
        "        \"palm_down\",\n",
        "        \"palm_center\"\n",
        "    ]\n",
        "\n",
        "    SAMPLES_PER_GESTURE = 150\n",
        "    NUM_FEATURES = 8\n",
        "\n",
        "    NUM_GESTURES = len(GESTURES)\n",
        "\n",
        "    # create a one-hot encoded matrix that is used in the output\n",
        "    ONE_HOT_ENCODED_GESTURES = np.eye(NUM_GESTURES)\n",
        "\n",
        "    inputs = []\n",
        "    outputs = []\n",
        "\n",
        "    # read each csv file and push an input and output\n",
        "    for gesture_index in range(NUM_GESTURES):\n",
        "        gesture = GESTURES[gesture_index]\n",
        "        print(f\"Processing index {gesture_index} for gesture '{gesture}'.\")\n",
        "\n",
        "        output = ONE_HOT_ENCODED_GESTURES[gesture_index]\n",
        "\n",
        "        df = pd.read_csv(filepath + gesture + \".csv\")\n",
        "        df = df.drop(columns=['timestamp'])\n",
        "        df = df.dropna()\n",
        "        df = df.reset_index(drop=True)\n",
        "\n",
        "        # calculate the number of gesture recordings in the file\n",
        "        num_recordings = int(df.shape[0] / SAMPLES_PER_GESTURE)\n",
        "\n",
        "        print(f\"\\tThere are {num_recordings} recordings of the {gesture} gesture.\")\n",
        "\n",
        "        for i in range(num_recordings):\n",
        "            tensor = []\n",
        "            for j in range(SAMPLES_PER_GESTURE):\n",
        "                index = i * SAMPLES_PER_GESTURE + j\n",
        "                # normalize the input data, between 0 to 1:\n",
        "                # - acceleration is between: -4 to +4\n",
        "                # - gyroscope is between: -2000 to +2000\n",
        "                tensor += [\n",
        "                    df['eD'][index] / 500000,\n",
        "                    df['eU'][index] / 500000,\n",
        "                    (df['aX'][index] + 4) / 8,\n",
        "                    (df['aY'][index] + 4) / 8,\n",
        "                    (df['aZ'][index] + 4) / 8,\n",
        "                    (df['gX'][index] + 2000) / 4000,\n",
        "                    (df['gY'][index] + 2000) / 4000,\n",
        "                    (df['gZ'][index] + 2000) / 4000\n",
        "                ]\n",
        "            inputs.append(tensor)\n",
        "            outputs.append(output)\n",
        "\n",
        "    # convert the list to numpy array\n",
        "    inputs = np.array(inputs)\n",
        "    outputs = np.array(outputs)\n",
        "\n",
        "    print(\"Data set parsing and preparation complete.\")\n",
        "    print(inputs.shape, outputs.shape)\n",
        "\n",
        "    # Randomize the order of the inputs, so they can be evenly distributed for training, testing, and validation\n",
        "    # https://stackoverflow.com/a/37710486/2020087\n",
        "    num_inputs = len(inputs)\n",
        "    randomize = np.arange(num_inputs)\n",
        "    np.random.shuffle(randomize)\n",
        "\n",
        "    # Swap the consecutive indexes (0, 1, 2, etc) with the randomized indexes\n",
        "    inputs = inputs[randomize]\n",
        "    outputs = outputs[randomize]\n",
        "\n",
        "    # reshape (for LSTM)\n",
        "    inputs = inputs.reshape((-1, SAMPLES_PER_GESTURE, NUM_FEATURES))\n",
        "    outputs = np.argmax(outputs, axis=1)\n",
        "\n",
        "    # Split the recordings (group of samples) into three sets: training, testing and validation\n",
        "    TRAIN_SPLIT = int(0.6 * num_inputs)\n",
        "    TEST_SPLIT = int(0.2 * num_inputs + TRAIN_SPLIT)\n",
        "\n",
        "    inputs_train, inputs_test, inputs_validate = np.split(inputs, [TRAIN_SPLIT, TEST_SPLIT])\n",
        "    outputs_train, outputs_test, outputs_validate = np.split(outputs, [TRAIN_SPLIT, TEST_SPLIT])\n",
        "\n",
        "    print(\"Data set randomization and splitting complete.\")"
      ],
      "metadata": {
        "id": "51d2oRpl9kYp"
      },
      "execution_count": null,
      "outputs": []
    },
    {
      "cell_type": "markdown",
      "source": [
        "## Convert model to TF Lite format"
      ],
      "metadata": {
        "id": "5oZ9OKy8FuH1"
      }
    },
    {
      "cell_type": "code",
      "execution_count": null,
      "metadata": {
        "id": "0Xn1-Rn9Cp_8",
        "vscode": {
          "languageId": "python"
        },
        "colab": {
          "base_uri": "https://localhost:8080/"
        },
        "outputId": "d9b1f2b0-6137-4f32-ca2e-debef5cc888f"
      },
      "outputs": [
        {
          "output_type": "stream",
          "name": "stderr",
          "text": [
            "WARNING:absl:Found untraced functions such as _jit_compiled_convolution_op, _update_step_xla while saving (showing 2 of 2). These functions will not be directly callable after loading.\n"
          ]
        },
        {
          "output_type": "stream",
          "name": "stdout",
          "text": [
            "Model w/o quant is 56816 bytes\n"
          ]
        }
      ],
      "source": [
        "# Convert the model to the TensorFlow Lite format without quantization\n",
        "converter = tf.lite.TFLiteConverter.from_keras_model(model)\n",
        "converter.target_spec.supported_ops = [\n",
        "  tf.lite.OpsSet.TFLITE_BUILTINS,  # enable TensorFlow Lite ops.\n",
        "  tf.lite.OpsSet.SELECT_TF_OPS  # enable TensorFlow ops.\n",
        "]\n",
        "converter._experimental_lower_tensor_list_ops = False\n",
        "tflite_model_no_quant = converter.convert()\n",
        "\n",
        "# Save the model to disk\n",
        "open(MODELS_DIR + \"gesture_model_no_quant.tflite\", \"wb\").write(tflite_model_no_quant)\n",
        "\n",
        "import os\n",
        "model_no_quant_size = os.path.getsize(MODELS_DIR + \"gesture_model_no_quant.tflite\")\n",
        "print(\"Model w/o quant is %d bytes\" % model_no_quant_size)\n"
      ]
    },
    {
      "cell_type": "code",
      "source": [
        "# Convert the model to the TensorFlow Lite format with quantization\n",
        "def representative_dataset():\n",
        "  # put your dataset format\n",
        "  for i in range(inputs_train.shape[0]):\n",
        "    yield [inputs_train[i].reshape(1, inputs_train.shape[1], inputs_train.shape[2]).astype(np.float32)]\n",
        "\n",
        "# Set the optimization flag.\n",
        "converter.optimizations = [tf.lite.Optimize.DEFAULT]\n",
        "\n",
        "# The most important point is you need to specify \"supported_ops\"\n",
        "converter.target_spec.supported_ops = [\n",
        "    tf.lite.OpsSet.TFLITE_BUILTINS,\n",
        "    tf.lite.OpsSet.SELECT_TF_OPS\n",
        "]\n",
        "\n",
        "# in this case, the arduino input will be  model_input->data.f[i]\n",
        "converter.inference_input_type = tf.float32\n",
        "converter.inference_output_type = tf.float32\n",
        "\n",
        "# Provide a representative dataset to ensure we quantize correctly.\n",
        "converter.representative_dataset = representative_dataset\n",
        "tflite_model_quant = converter.convert()\n",
        "\n",
        "# Save the model to disk\n",
        "open(MODELS_DIR + \"gesture_model_quant.tflite\", \"wb\").write(tflite_model_quant)\n",
        "\n",
        "model_quant_size = os.path.getsize(MODELS_DIR + \"gesture_model_quant.tflite\")\n",
        "print(\"Model w/ quant is %d bytes\" % model_quant_size)"
      ],
      "metadata": {
        "id": "p-VAnPmImXYO",
        "colab": {
          "base_uri": "https://localhost:8080/"
        },
        "outputId": "101375d6-8762-4222-8c59-583815728097"
      },
      "execution_count": null,
      "outputs": [
        {
          "output_type": "stream",
          "name": "stderr",
          "text": [
            "WARNING:absl:Found untraced functions such as _jit_compiled_convolution_op, _update_step_xla while saving (showing 2 of 2). These functions will not be directly callable after loading.\n",
            "/usr/local/lib/python3.10/dist-packages/tensorflow/lite/python/convert.py:789: UserWarning: Statistics for quantized inputs were expected, but not specified; continuing anyway.\n",
            "  warnings.warn(\"Statistics for quantized inputs were expected, but not \"\n"
          ]
        },
        {
          "output_type": "stream",
          "name": "stdout",
          "text": [
            "Model w/ quant is 19432 bytes\n"
          ]
        }
      ]
    },
    {
      "cell_type": "markdown",
      "metadata": {
        "id": "ykccQn7SXrUX"
      },
      "source": [
        "## Encode the Model in an Arduino Header File\n",
        "\n",
        "The next cell creates a constant byte array that contains the TFlite model. Import it as a tab with the sketch below."
      ]
    },
    {
      "cell_type": "code",
      "execution_count": null,
      "metadata": {
        "id": "9J33uwpNtAku",
        "vscode": {
          "languageId": "python"
        },
        "colab": {
          "base_uri": "https://localhost:8080/"
        },
        "outputId": "bc7ab6d8-5420-4229-b31c-d209dff4f275"
      },
      "outputs": [
        {
          "output_type": "stream",
          "name": "stdout",
          "text": [
            "Header file, model_no_quant.h, is 342.188 KB.\n",
            "\n",
            "Open the side panel (refresh if needed). Double click model.h to download the file.\n"
          ]
        }
      ],
      "source": [
        "# without quant\n",
        "!echo \"const unsigned char model[] = {\" > /content/models/model_no_quant.h\n",
        "!cat models/gesture_model_no_quant.tflite | xxd -i      >> /content/models/model_no_quant.h\n",
        "!echo \"};\"                              >> /content/models/model_no_quant.h\n",
        "\n",
        "import os\n",
        "model_no_quant_h_size = os.path.getsize(MODELS_DIR + \"model_no_quant.h\")\n",
        "print(f\"Header file, model_no_quant.h, is {model_no_quant_h_size / 1024 :.3f} KB.\")\n",
        "print(\"\\nOpen the side panel (refresh if needed). Double click model.h to download the file.\")"
      ]
    },
    {
      "cell_type": "code",
      "source": [
        "# with quantization\n",
        "!echo \"const unsigned char model[] = {\" > /content/models/model_quant.h\n",
        "!cat models/gesture_model_quant.tflite | xxd -i      >> /content/models/model_quant.h\n",
        "!echo \"};\"                              >> /content/models/model_quant.h\n",
        "\n",
        "import os\n",
        "model_quant_h_size = os.path.getsize(MODELS_DIR + \"model_quant.h\")\n",
        "print(f\"Header file, model_quant.h, is {model_quant_h_size / 1024 :.3f} KB.\")\n",
        "print(\"\\nOpen the side panel (refresh if needed). Double click model.h to download the file.\")"
      ],
      "metadata": {
        "colab": {
          "base_uri": "https://localhost:8080/"
        },
        "id": "d0jOWdhXsLED",
        "outputId": "ade0bc7b-cd57-4339-f024-c80c41afa56d"
      },
      "execution_count": null,
      "outputs": [
        {
          "output_type": "stream",
          "name": "stdout",
          "text": [
            "Header file, model_quant.h, is 117.057 KB.\n",
            "\n",
            "Open the side panel (refresh if needed). Double click model.h to download the file.\n"
          ]
        }
      ]
    },
    {
      "cell_type": "code",
      "source": [],
      "metadata": {
        "id": "ROEpUNnVq3Yu"
      },
      "execution_count": null,
      "outputs": []
    }
  ],
  "metadata": {
    "colab": {
      "provenance": [],
      "gpuType": "T4",
      "collapsed_sections": [
        "Gxk414PU3oy3"
      ]
    },
    "kernelspec": {
      "display_name": "Python 3",
      "name": "python3"
    },
    "accelerator": "GPU"
  },
  "nbformat": 4,
  "nbformat_minor": 0
}